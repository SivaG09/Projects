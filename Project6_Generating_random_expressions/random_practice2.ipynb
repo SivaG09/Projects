{
 "cells": [
  {
   "cell_type": "raw",
   "id": "0a500738-0a7b-419b-a985-bb80854ec639",
   "metadata": {},
   "source": [
    "The Grammer for Generating the Expressions are:\n",
    "\n",
    "expr: term((PLUS/MINUS)term)*\n",
    "term: factor((MUL/DIV)factor)*\n",
    "factor: INTEGER | LPARAM expr RPARAM"
   ]
  },
  {
   "cell_type": "code",
   "execution_count": 3,
   "id": "b66736ec-2ff3-4dde-88ac-fd3f24fe8894",
   "metadata": {},
   "outputs": [],
   "source": [
    "    def factor(self):\n",
    "        token = self.current_token\n",
    "        # print(token)\n",
    "        if token.type_ == INTEGER:\n",
    "            self.eat(INTEGER)\n",
    "        elif token.type_ == LPARAM:\n",
    "            self.eat(LPARAM)\n",
    "            res = self.expr()\n",
    "            self.eat(RPARAM)\n",
    "            return res\n",
    "    \n",
    "        return token.value\n",
    "\n",
    "    def term(self):\n",
    "\n",
    "        res = self.factor()\n",
    "        # print(res)\n",
    "\n",
    "        while self.current_token.type_ in (MUL, DIV):\n",
    "            token = self.current_token\n",
    "            if token.type_ == MUL:\n",
    "                self.eat(MUL)\n",
    "                res = res * self.factor()\n",
    "            else:\n",
    "                self.eat(DIV)\n",
    "                res = res // self.factor()\n",
    "        return res\n",
    "    \n",
    "    def expr(self):\n",
    "        \n",
    "        result = self.term()\n",
    "\n",
    "        while self.current_token.type_ in (PLUS, MINUS):\n",
    "            token = self.current_token\n",
    "            if token.type_ == PLUS:\n",
    "                self.eat(PLUS)\n",
    "                result = result + self.term()\n",
    "            else:\n",
    "                self.eat(MINUS)\n",
    "                result = result + self.term()\n",
    "        return result"
   ]
  },
  {
   "cell_type": "code",
   "execution_count": 4,
   "id": "8daca307-2303-4d13-83a1-3d5eed63fd8c",
   "metadata": {},
   "outputs": [],
   "source": [
    "#factor \n",
    "import random\n",
    "\n",
    "list1= []\n",
    "\n",
    "\n",
    "def random_factor():\n",
    "        x = random.random()\n",
    "\n",
    "        if x > 0.5:\n",
    "            res = random.randint(1,1000)\n",
    "            return res\n",
    "        else:\n",
    "            res = random_expr()\n",
    "        \n"
   ]
  },
  {
   "cell_type": "code",
   "execution_count": null,
   "id": "1d4404d4-a261-4f90-beae-7a57d92f43d6",
   "metadata": {},
   "outputs": [],
   "source": [
    "#factor \n",
    "import random\n",
    "\n",
    "list1= []\n",
    "def random_expr():\n",
    "    operators = ['+','-']\n",
    "    x1= random.randint(1,1000)\n",
    "    list1.append(str(x1))\n",
    "    op = random.choice(operators)\n",
    "    list1.append(str(op))\n",
    "    x2 = random.randint(1,1000)\n",
    "    list1.append(str(x2))\n",
    "\n",
    "random_expr()\n",
    "print(list1)"
   ]
  },
  {
   "cell_type": "raw",
   "id": "1dba1a2f-ca90-4e8c-ad80-6b7458803b77",
   "metadata": {},
   "source": [
    "expr = (factor(MUL/DIV)factor)*\n",
    "factor = integer"
   ]
  },
  {
   "cell_type": "code",
   "execution_count": 6,
   "id": "818b53f1-838c-438c-9e6e-e70bacd9060a",
   "metadata": {},
   "outputs": [],
   "source": [
    "def expr_(expr):\n",
    "    # x = random.randint(1,9)\n",
    "    # print(x)\n",
    "    # expr += str(x)\n",
    "    # print(expr)\n",
    "    # else:\n",
    "    if len(expr) == 0:\n",
    "        x = factor_()\n",
    "        print(x)\n",
    "        expr.append(str(x))\n",
    "        print(expr)\n",
    "    if random.random() > 0.5:\n",
    "        op = random.choice(['*','/'])\n",
    "        expr += op\n",
    "        expr.append(factor_())\n",
    "        return expr\n",
    "    else:\n",
    "        if len(expr) == 1:\n",
    "            a = random.choice(['*', '/'])\n",
    "            expr += a\n",
    "            expr.append(factor_())\n",
    "            return expr\n",
    "        else:\n",
    "            return expr\n",
    "\n",
    "\n",
    "def factor_():\n",
    "    x = random.randint(1,1000)\n",
    "    print(x)\n",
    "    return str(x)\n",
    "    # return expr"
   ]
  },
  {
   "cell_type": "code",
   "execution_count": 7,
   "id": "9c32354b-c736-4ed4-9932-f659025e61aa",
   "metadata": {},
   "outputs": [
    {
     "name": "stdout",
     "output_type": "stream",
     "text": [
      "5\n",
      "674\n",
      "674\n",
      "['674']\n",
      "501\n",
      "['674', '/', '501']\n"
     ]
    }
   ],
   "source": [
    "import random\n",
    "\n",
    "num_terms = random.randint(3,6)\n",
    "# print(num_terms)\n",
    "print(num_terms)\n",
    "# res = []\n",
    "expr =[]\n",
    "# while num_terms:\n",
    "res = expr_(expr)\n",
    "    # num_terms -= 1\n",
    "print(res)"
   ]
  },
  {
   "cell_type": "code",
   "execution_count": 8,
   "id": "3cc5556d-5906-414a-ae9e-17f6042ceac5",
   "metadata": {},
   "outputs": [
    {
     "data": {
      "text/plain": [
       "3"
      ]
     },
     "execution_count": 8,
     "metadata": {},
     "output_type": "execute_result"
    }
   ],
   "source": [
    "num_terms = random.randint(3,6)\n",
    "num_terms"
   ]
  },
  {
   "cell_type": "code",
   "execution_count": 9,
   "id": "2d5f4af1-5b17-4220-824e-3269e5e1cb0b",
   "metadata": {},
   "outputs": [
    {
     "name": "stdout",
     "output_type": "stream",
     "text": [
      "1\n",
      "2\n",
      "3\n",
      "['4', '2', '1']\n"
     ]
    }
   ],
   "source": [
    "expr = []\n",
    "while len(expr) < num_terms:\n",
    "    x = random.randint(1,9)\n",
    "    # print(x)\n",
    "    expr += str(x)\n",
    "    print(len(expr))\n",
    "\n",
    "print(expr)"
   ]
  },
  {
   "cell_type": "code",
   "execution_count": 10,
   "id": "97b172cb-6aac-42f6-858a-d13de17d6b1a",
   "metadata": {},
   "outputs": [
    {
     "name": "stdout",
     "output_type": "stream",
     "text": [
      "Hello\n",
      "Hello\n",
      "Hello\n"
     ]
    }
   ],
   "source": [
    "i = 3\n",
    "while (i):\n",
    "    print(\"Hello\")\n",
    "    i -= 1"
   ]
  },
  {
   "cell_type": "code",
   "execution_count": 14,
   "id": "cdf26187-5af4-4171-94dc-01ccb046fb38",
   "metadata": {},
   "outputs": [],
   "source": [
    "import random\n",
    "def random_expr(num=3):  #num=3\n",
    "    if num == 0:\n",
    "        x = random.randint(1,100)\n",
    "        return str(x)\n",
    "    res = random_term(num)\n",
    "    while random.choice(['True', 'False']):\n",
    "            op = random.choice(['+','-'])\n",
    "            res = f'{op} {random_term(num-1)}'\n",
    "    return res\n",
    "\n",
    "def random_term(num):\n",
    "    if num == 0:\n",
    "        return str(random.randint(1,100))\n",
    "    t = random_factor(num)\n",
    "    while random.choice(['True', 'False']):\n",
    "        op = random.choice(['*', '/'])\n",
    "        t = f'{op} {random_factor(num-1)}'\n",
    "    return t\n",
    "\n",
    "def random_factor(num):\n",
    "    if num == 0:\n",
    "        return str(random.randint(1,100))\n",
    "    if random.choice(['True', 'False']):\n",
    "        return str(random.randint(1,100))\n",
    "    else:\n",
    "        return f'({random_expr(num-1)})'"
   ]
  },
  {
   "cell_type": "code",
   "execution_count": null,
   "id": "0ad44422-5590-4be7-8eea-77edbc49c7f8",
   "metadata": {},
   "outputs": [],
   "source": [
    "num_expression = 5\n",
    "for _ in range(num_expression):\n",
    "    expressions = random_expr()\n",
    "\n",
    "\n",
    "for i in expressions:\n",
    "    print(i)"
   ]
  },
  {
   "cell_type": "code",
   "execution_count": null,
   "id": "c64e014f-6006-4fa2-98e2-43a05deb22f8",
   "metadata": {},
   "outputs": [],
   "source": []
  }
 ],
 "metadata": {
  "kernelspec": {
   "display_name": "Python 3 (ipykernel)",
   "language": "python",
   "name": "python3"
  },
  "language_info": {
   "codemirror_mode": {
    "name": "ipython",
    "version": 3
   },
   "file_extension": ".py",
   "mimetype": "text/x-python",
   "name": "python",
   "nbconvert_exporter": "python",
   "pygments_lexer": "ipython3",
   "version": "3.10.12"
  }
 },
 "nbformat": 4,
 "nbformat_minor": 5
}
