{
 "cells": [
  {
   "cell_type": "code",
   "execution_count": 1,
   "id": "446b819d",
   "metadata": {},
   "outputs": [],
   "source": [
    "INTEGER = 'INTEGER'\n",
    "MUL = 'MUL'\n",
    "DIV = 'DIV'\n",
    "EOF = 'EOF'\n",
    "\n",
    "\n",
    "class Token:\n",
    "    def __init__(self,type_,value):\n",
    "        self.type_ = type_\n",
    "        self.value = value\n",
    "    \n",
    "    def __str__(self):\n",
    "        return f'Token:({self.type_},{self.value})'\n",
    "    \n",
    "    def __repr__(self):\n",
    "        return self.__str__()\n",
    "    \n",
    "# a = Token(INTEGER,6)\n",
    "# print(a)\n",
    "    "
   ]
  },
  {
   "cell_type": "code",
   "execution_count": 2,
   "id": "34f3d3c1",
   "metadata": {},
   "outputs": [],
   "source": [
    "class Lexer:\n",
    "    def __init__(self,test):\n",
    "        self.text = test\n",
    "#         print(self.text)\n",
    "        self.pos = 0\n",
    "#         self.current_token = None\n",
    "        self.current_char = self.text[self.pos]\n",
    "#         print(self.current_char)\n",
    "        \n",
    "    def advance(self):\n",
    "        self.pos += 1\n",
    "        if self.pos > len(self.text) - 1:\n",
    "            self.current_char = None\n",
    "        else:\n",
    "            self.current_char = self.text[self.pos]\n",
    "            \n",
    "    def error(self):\n",
    "        raise Exception(\"Parsing Error\")\n",
    "    \n",
    "    def skip_whitespace(self):\n",
    "        while self.current_char is not None and self.current_char.isspace():\n",
    "            self.advance()\n",
    "            \n",
    "    def integer(self):\n",
    "        res = ''\n",
    "        while self.current_char is not None and self.current_char.isdigit():\n",
    "            res += self.current_char\n",
    "            self.advance()\n",
    "#             print(int(res))\n",
    "        return int(res)\n",
    "        \n",
    "    def get_nxt_token(self):\n",
    "        \n",
    "        while self.current_char is not None:\n",
    "            \n",
    "#             print(self.current_char)\n",
    "            \n",
    "            if self.current_char.isspace():\n",
    "                self.skip_whitespace()\n",
    "                continue\n",
    "            \n",
    "            if self.current_char.isdigit():\n",
    "#                 print(self.current_char.isdigit())\n",
    "                return Token(INTEGER,self.integer())\n",
    "            \n",
    "            if self.current_char == '*':\n",
    "                self.advance()\n",
    "                return Token(MUL,'*')\n",
    "            \n",
    "            if self.current_char == '/':\n",
    "                self.advance()\n",
    "                return Token(DIV, '/')\n",
    "            \n",
    "            self.error()\n",
    "            \n",
    "        return Token(EOF,None)\n",
    "    \n",
    "\n",
    "    \n",
    "    \n",
    "class Interpreter:\n",
    "    def __init__(self,lexer):\n",
    "        self.lexer = lexer\n",
    "#         print(self.lexer)\n",
    "        \n",
    "        self.current_token = self.lexer.get_nxt_token()\n",
    "#         print(self.current_token)\n",
    "    \n",
    "    \n",
    "    def eat(self, token_type):\n",
    "#         print(self.current_token.type_)\n",
    "        if self.current_token.type_ == token_type:\n",
    "            self.current_token = self.lexer.get_nxt_token()\n",
    "#             print(self.current_token)\n",
    "            \n",
    "        else:\n",
    "            self.error()\n",
    "            \n",
    "    \n",
    "    def factor(self):\n",
    "        token = self.current_token\n",
    "#         print(token.value)\n",
    "        self.eat(INTEGER)\n",
    "        return token.value\n",
    "        \n",
    "    def expr(self):\n",
    "\n",
    "        result = self.factor()\n",
    "#         print(result)\n",
    "        while self.current_token.type_ in (MUL,DIV):\n",
    "            token = self.current_token\n",
    "#             print(token)\n",
    "            if token.type_ == MUL:\n",
    "                self.eat(MUL)\n",
    "                result = result * self.factor()\n",
    "            elif token.type_ == DIV:\n",
    "                self.eat(DIV)\n",
    "                result = result // self.factor()   #if we give '/' it will give output as float\n",
    "                         \n",
    "        return result"
   ]
  },
  {
   "cell_type": "raw",
   "id": "c1875e1e-30b5-4163-878b-41b664562c96",
   "metadata": {},
   "source": [
    "expr = (factor(MUL/DIV)factor)*\n",
    "factor = integer"
   ]
  },
  {
   "cell_type": "code",
   "execution_count": 3,
   "id": "39bca88c",
   "metadata": {},
   "outputs": [
    {
     "name": "stdin",
     "output_type": "stream",
     "text": [
      " 4*5\n"
     ]
    },
    {
     "name": "stdout",
     "output_type": "stream",
     "text": [
      "20\n"
     ]
    }
   ],
   "source": [
    "i=1\n",
    "while(i):\n",
    "    text = input()\n",
    "    i=0\n",
    "    if not text:\n",
    "        continue\n",
    "#     print(text)\n",
    "    lexer = Lexer(text)\n",
    "    interpreter = Interpreter(lexer)\n",
    "    res = interpreter.expr()\n",
    "    print(res)"
   ]
  },
  {
   "cell_type": "code",
   "execution_count": 45,
   "id": "729537d5",
   "metadata": {},
   "outputs": [],
   "source": [
    "# a = '0'\n",
    "# a.isdigit()"
   ]
  },
  {
   "cell_type": "code",
   "execution_count": 4,
   "id": "af484859",
   "metadata": {},
   "outputs": [
    {
     "name": "stdout",
     "output_type": "stream",
     "text": [
      "Generated Expression: 3 / 9\n"
     ]
    }
   ],
   "source": [
    "import random\n",
    "\n",
    "def random_expr():\n",
    "    operators = ['*', '/']\n",
    "    num_terms = random.randint(2, 4)  # Number of terms in the expression\n",
    "    \n",
    "    # Generate the expression\n",
    "    expression = str(random.randint(1, 100))  # Start with the first integer\n",
    "    for _ in range(num_terms - 1):\n",
    "        op = random.choice(operators)  # Choose a random operator\n",
    "        term = str(random.randint(1, 10))  # Generate a random integer\n",
    "        expression += f' {op} {term}'  # Append operator and term\n",
    "    \n",
    "    return expression\n",
    "\n",
    "\n",
    "# Example usage\n",
    "random_expression = random_expr()\n",
    "print(\"Generated Expression:\", random_expression)\n"
   ]
  },
  {
   "cell_type": "code",
   "execution_count": null,
   "id": "9007921d-ba5e-40f5-b74f-66e154edf8d2",
   "metadata": {},
   "outputs": [],
   "source": []
  }
 ],
 "metadata": {
  "kernelspec": {
   "display_name": "Python 3 (ipykernel)",
   "language": "python",
   "name": "python3"
  },
  "language_info": {
   "codemirror_mode": {
    "name": "ipython",
    "version": 3
   },
   "file_extension": ".py",
   "mimetype": "text/x-python",
   "name": "python",
   "nbconvert_exporter": "python",
   "pygments_lexer": "ipython3",
   "version": "3.10.12"
  }
 },
 "nbformat": 4,
 "nbformat_minor": 5
}
