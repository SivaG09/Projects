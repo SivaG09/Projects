{
 "cells": [
  {
   "cell_type": "markdown",
   "id": "e10ebd94-5853-4613-b91a-4d88e07d742a",
   "metadata": {},
   "source": [
    "# **Task21**\n",
    "Consider the expression syntax tree discussed here: https://ruslanspivak.com/lsbasi-part7/ . \n",
    "Develop a python program that generates a set of random expressions based on the syntax tree definition. \n",
    "(e.g., this may be useful to generate synthetic expression dataset)\n",
    "\n"
   ]
  },
  {
   "cell_type": "markdown",
   "id": "f138d81d-c696-4417-b64e-f1cb7e46de14",
   "metadata": {},
   "source": [
    "## The Grammer for Generating the Expressions are:"
   ]
  },
  {
   "cell_type": "raw",
   "id": "e7dd560d-88f3-49d1-90c6-0ac3301bfb0b",
   "metadata": {},
   "source": [
    "expr: term((PLUS/MINUS)term)*\n",
    "term: factor((MUL/DIV)factor)*\n",
    "factor: INTEGER | LPARAM expr RPARAM"
   ]
  },
  {
   "cell_type": "markdown",
   "id": "db454d3d-e17d-4b71-b09f-1eade5398bcb",
   "metadata": {},
   "source": [
    "### Tokens"
   ]
  },
  {
   "cell_type": "code",
   "execution_count": 25,
   "id": "d9941a82-272d-4495-9016-4253fb8b5c24",
   "metadata": {},
   "outputs": [],
   "source": [
    "PLUS, MINUS, MUL, DIV, EOF, LPARAM, RPARAM,INTEGER  = 'PLUS', 'MINUS', 'MUL','DIV', 'EOF', 'LPARAM', 'RPARAM','INTEGER'"
   ]
  },
  {
   "cell_type": "markdown",
   "id": "acea9573-7d45-4577-8e2f-7c640d91037e",
   "metadata": {},
   "source": [
    "### DEFINING THE CLASS TOKEN"
   ]
  },
  {
   "cell_type": "code",
   "execution_count": 26,
   "id": "1030c6c1-f29a-41f6-a935-932b266872b0",
   "metadata": {},
   "outputs": [],
   "source": [
    "class Token:\n",
    "    def __init__(self,type_,value):                  #calling the initialization function and initializing the values\n",
    "        self.type_ = type_                           #Storing the type of the token to self.token\n",
    "        self.value = value                           #Storing the value of the token to self.value\n",
    "\n",
    "    def __str__(self):\n",
    "        return f\"Token({self.type_},{self.value})\"   #Returning the object of the class as a stirng\n",
    "\n",
    "    def __repr__(self):                              #Retunring the stirng \n",
    "        return __str__()"
   ]
  },
  {
   "cell_type": "markdown",
   "id": "d637fe14-bbda-44b7-b41b-d227e4130796",
   "metadata": {},
   "source": [
    "### Defining the class Lexer"
   ]
  },
  {
   "cell_type": "code",
   "execution_count": 27,
   "id": "d1a1b435-093f-464b-89b2-2784a3a5aa17",
   "metadata": {},
   "outputs": [],
   "source": [
    "class Lexer:\n",
    "    def __init__(self,text):                        #Calling the init function and passing the text to it\n",
    "        self.text = text                            #Storing the text to self.text\n",
    "        # print(self.text)\n",
    "        self.pos = 0                               #Initializing the position to 0\n",
    "        self.current_char = self.text[self.pos]    #Storing the 0th index value of the text to the variable current_char\n",
    "        # print(self.current_char)\n",
    "\n",
    "    def error(self):                               #defining the error function to raise the exception\n",
    "        raise Exception(\"Invalid Character\")\n",
    "\n",
    "    def advance(self):                             #defining the function advance\n",
    "        self.pos +=1                               #incrementing the character by 1 position\n",
    "        if self.pos > len(self.text) - 1:          #checking whether the position value is the last value of text\n",
    "            self.current_char = None               #if yes, making current_char - none\n",
    "        else:\n",
    "            self.current_char = self.text[self.pos]  #else, storing the current position of the text to the variable current_char\n",
    "\n",
    "    def skip_whitespace(self):                        #function to remove whitespace\n",
    "        while self.current_char is not None and self.current_char.isspace():        #checking the character is not none and isspace\n",
    "            self.advance()                                                          #calling the advance function\n",
    "\n",
    "    def integer(self):                                #defining the function integer to merge the 2 or more digit integers\n",
    "        res = ''                                      #initializing the variable res with blank\n",
    "        while self.current_char is not None and self.current_char.isdigit():         #checks the current_char is digit or not\n",
    "            res += self.current_char                                                 #adding the current_char to the variable res\n",
    "            self.advance()                                                           #calling the function advance\n",
    "        return int(res)                                                              #returning the res of int\n",
    "            \n",
    "            \n",
    "    def get_next_token(self):                                       #defining the function get_next_token \n",
    "\n",
    "        while self.current_char is not None:                        #while loop to check the character is till none\n",
    "\n",
    "            if self.current_char.isspace():                     #condition to check for white space\n",
    "                self.skip_whitespace()                             #if yes, calling the function skip_whitespace\n",
    "                continue\n",
    "            elif self.current_char.isdigit():                   #condition to check for is digit\n",
    "                return Token(INTEGER,self.integer())               #if yes, returning the token \n",
    "            elif self.current_char == '+':                      #condition for '+'\n",
    "                self.advance()                                     #if yes, calls the advance function to increment the position  \n",
    "                return Token(PLUS,'+')                             #returs the token of PLUS \n",
    "            elif self.current_char == '-':                      #condition for '-'\n",
    "                self.advance()                                     #if yes, calls the advance function to increment the position\n",
    "                return Token(MINUS,'-')                            #returns the token of MINUS\n",
    "            elif self.current_char == '*':                      #condition to check for '*'\n",
    "                self.advance()                                     #if yes, calls the advance function to increment the position \n",
    "                return Token(MUL,'*')                              #returns the token of MUL\n",
    "            elif self.current_char == '/':                      #condition to check for '/'\n",
    "                self.advance()                                     #if yes, calls the advanvce function to increment the position\n",
    "                return Token(DIV,'/')                              #returns the token of DIV \n",
    "            elif self.current_char == '(':                      #condition to check for the '('\n",
    "                self.advance()                                     #calling the advance function to increment the position  \n",
    "                return Token(LPARAM,'(')                           #returns the token LPARAM\n",
    "            elif self.current_char == ')':                      #condition to check for the ')'\n",
    "                self.advance()                                     #calling the advance function to increment the position\n",
    "                return Token(RPARAM,')')                           #returns the token of RPARAM\n",
    "            self.error()                                        #if no condition satisfied calls the error function to raise the exception\n",
    "        return Token(EOF,None)                               #if the current char is None then , return the token of None"
   ]
  },
  {
   "cell_type": "markdown",
   "id": "0f7f9975-dbfc-4f7a-8dce-66768ad2256c",
   "metadata": {},
   "source": [
    "### Defining the class Interpreter"
   ]
  },
  {
   "cell_type": "code",
   "execution_count": 28,
   "id": "609b3a99-96fc-4b70-a485-50d4c9827a5e",
   "metadata": {},
   "outputs": [],
   "source": [
    "class Interpreter:\n",
    "    def __init__(self,lexer):                                        #defining the init function to initialize the variables\n",
    "        self.lexer = lexer                                           #storing the lexer to the variable lexer\n",
    "        # print(self.lexer)\n",
    "        self.current_token = self.lexer.get_next_token()             #calling the get_next_token function of lexer class to initialize the current token\n",
    "        # print(self.current_token)\n",
    "\n",
    "    def error(self):                               #defining the error function to raise the exception\n",
    "        raise Exception(\"Invalid Syntax\")\n",
    "\n",
    "    def eat(self,token_type):                                      #defining the function eat to check for token type and store next token \n",
    "        if self.current_token.type_ == token_type:                  #condition to check for the type of the token is same\n",
    "            self.current_token = self.lexer.get_next_token()         #calling the next token function and storing it in current_token variable\n",
    "            # print(self.current_token)\n",
    "        else:                                                        \n",
    "            self.error()                                             #if the token type mismatched, then call error function\n",
    "\n",
    "    def factor(self):                                           #defining the function factor \n",
    "        token = self.current_token                                 #storing the current_token to the token variable\n",
    "        # print(token)\n",
    "        if token.type_ == INTEGER:                                #condition to check if the token type is INTEGER\n",
    "            self.eat(INTEGER)                                       #if yes, calling the eat function\n",
    "        elif token.type_ == LPARAM:                               #condition to check if the token type is LPARAM\n",
    "            self.eat(LPARAM)                                        #if yes calling the eat function\n",
    "            res = self.expr()                                       #calling the expr function to create a one more expression  \n",
    "            self.eat(RPARAM)                                        #calling the eat function and passing RPARAM \n",
    "            return res                                              #returning the res\n",
    "            \n",
    "            \n",
    "        return token.value                                          #returning the value of the token \n",
    "    \n",
    "    def term(self):                                             #defining the function term   \n",
    "\n",
    "        res = self.factor()                                        #calling the function factor and storing it to the variable res\n",
    "        # print(res)\n",
    "\n",
    "        while self.current_token.type_ in (MUL, DIV):              #checking if the type of the current token is MUL or DIV\n",
    "            token = self.current_token                               #if yes, stores the token to the token variable\n",
    "            if token.type_ == MUL:                                   #check got the token type is MUL \n",
    "                self.eat(MUL)                                          #if yes, calls eat function \n",
    "                res = res * self.factor()                              #storing the result of res * factor function to the same varaible res\n",
    "            else:\n",
    "                self.eat(DIV)                                          #else calls eat function for DIV\n",
    "                res = res / self.factor()                              #storing the result of res / factor function to the same varaible res\n",
    "        return res                                                 #returning the res     \n",
    "    \n",
    "    def expr(self):                                             #defining the function expr\n",
    "        \n",
    "        result = self.term()                                       #calling the function term and storing it to the variable result\n",
    "\n",
    "        while self.current_token.type_ in (PLUS, MINUS):               #checking if the type of the current token is PLUS or MINUS\n",
    "            token = self.current_token                                   #if yes, stores the token to the token variable\n",
    "            if token.type_ == PLUS:                                       #check got the token type is PLUS\n",
    "                self.eat(PLUS)                                              #if yes, calls eat function for PLUS\n",
    "                result = result + self.term()                               #storing the result of result + factor function to the same varaible result\n",
    "            else:\n",
    "                self.eat(MINUS)                                             #else calls eat function for MINUS\n",
    "                result = result - self.term()                               #storing the result of result - factor function to the same varaible result\n",
    "        return result                                             #returning the result"
   ]
  },
  {
   "cell_type": "markdown",
   "id": "17c53bb8-0fe3-4f57-bdaf-02e7054fc819",
   "metadata": {},
   "source": [
    "## Creating the Random Expression"
   ]
  },
  {
   "cell_type": "code",
   "execution_count": 29,
   "id": "7f4d0bfb-efd2-4ddb-9b62-361fc9598a31",
   "metadata": {},
   "outputs": [],
   "source": [
    "import random                                                        #importing the library random\n",
    " \n",
    "def random_expr(max_depth=3):                                        #defining the function random_Expr and making max_Depth = 3\n",
    "    if max_depth == 0:                                               #checking the max_Depth = 0 \n",
    "        return random_factor(max_depth)                                #if yes, returning the function random_factor(max_depth)\n",
    "    \n",
    "    expr = random_term(max_depth)                                    #calling the function random_term and storing its result to variable expr\n",
    "    \n",
    "    # Add more terms with random operators\n",
    "    while random.choice([True, False]) and max_depth > 0:           #adding the terms till max_depth is greater than 0 and condition is True\n",
    "        op = random.choice(['+', '-'])                               #if yes, randomly choosing the operator\n",
    "        term = random_term(max_depth-1)                              #getting the next term\n",
    "        expr += f\" {op} {term}\"                                      #adding the terms to the variable expr\n",
    "    \n",
    "    return expr                                                     #returning the variable expr\n",
    "\n",
    "def random_term(max_depth):                                         #defining the function random_term  \n",
    "    if max_depth == 0:                                              #checking the max_Depth = 0 \n",
    "        return random_factor(max_depth)                                #if yes, returning the function random_factor(max_depth)\n",
    "    \n",
    "    term = random_factor(max_depth)                                 #calling the function random_factor and storing its result to variable term\n",
    "    \n",
    "    # Add more factors with random operators\n",
    "    while random.choice([True, False]) and max_depth > 0:           #adding the factors till max_depth is greater than 0 and condition is True\n",
    "        op = random.choice(['*', '/'])                               #if yes, randomly choosing the operator\n",
    "        factor = random_factor(max_depth-1)                          #getting the next factor\n",
    "        term += f\" {op} {factor}\"                                    #adding the terms to the variable term\n",
    "    \n",
    "    return term                                                    #returning the variable expr\n",
    "\n",
    "def random_factor(max_depth):                                      #defining the function random_factor\n",
    "    if max_depth == 0:                                             #checking the max_Depth = 0\n",
    "        return str(random.randint(1, 1000))                         #if yes, returning the random number between 1 - 1000\n",
    "    if random.choice([True, False]):                               #randomly checking the condition is True or False\n",
    "        return str(random.randint(1, 1000))                         #if True, returns an string of number between 1 - 1000\n",
    "    else:\n",
    "        return f\"({random_expr(max_depth-1)})\"                    #else, calling the expr function inside the parathesis'(expr)'"
   ]
  },
  {
   "cell_type": "markdown",
   "id": "2623b9fa-a6c0-42ce-92ef-fbb827a6048b",
   "metadata": {},
   "source": [
    "## Calling the random Expression Function to Generate the Expressions"
   ]
  },
  {
   "cell_type": "code",
   "execution_count": 32,
   "id": "649e20e1-48b7-4529-9ce3-a07b4b899a79",
   "metadata": {},
   "outputs": [
    {
     "name": "stdout",
     "output_type": "stream",
     "text": [
      "\n",
      "The Expression 1 is : (612) / 379 + (554 * 220 * 313 - 481 - 150 - 178 + 547) * (500) / (584) * 508 * 62 + (166 * 249 - 249) * 944\n",
      "The result of the above Expression is: 1028733145789.56\n",
      "\n",
      "\n",
      "The Expression 2 is : 895 / (452 + 418 - 927)\n",
      "The result of the above Expression is: -15.701754385964913\n",
      "\n",
      "\n",
      "The Expression 3 is : (((564) / 921 / 548 + 60) - (619) + (937) * 235 - (463))\n",
      "The result of the above Expression is: 219173.00111747783\n",
      "\n",
      "\n",
      "The Expression 4 is : 744\n",
      "The result of the above Expression is: 744\n",
      "\n"
     ]
    }
   ],
   "source": [
    "num = random.randint(3,10)                                   #randomly choosing the number if expression to be generated\n",
    "for i in range(num):                                         #running for loop till range of num\n",
    "    expr = random_expr(max_depth=3)                      #calling the function random_Expr and passing depth to 3\n",
    "    print(f'\\nThe Expression {i+1} is : {expr}')                                          #printing the expr \n",
    "    lexer = Lexer(expr)                            #creating the object for Lexer called lexer\n",
    "    interpreter = Interpreter(lexer)                     #creating the object for Interpreter called interpreter\n",
    "    res = interpreter.expr()                             #calling the expr function of interpreter and storing it in res variable\n",
    "    print(f'The result of the above Expression is: {res}\\n')                                           #printing the res "
   ]
  },
  {
   "cell_type": "code",
   "execution_count": null,
   "id": "ad3d781b-5d88-4639-88ad-db1b6625bb0d",
   "metadata": {},
   "outputs": [],
   "source": []
  }
 ],
 "metadata": {
  "kernelspec": {
   "display_name": "Python 3 (ipykernel)",
   "language": "python",
   "name": "python3"
  },
  "language_info": {
   "codemirror_mode": {
    "name": "ipython",
    "version": 3
   },
   "file_extension": ".py",
   "mimetype": "text/x-python",
   "name": "python",
   "nbconvert_exporter": "python",
   "pygments_lexer": "ipython3",
   "version": "3.10.12"
  }
 },
 "nbformat": 4,
 "nbformat_minor": 5
}
