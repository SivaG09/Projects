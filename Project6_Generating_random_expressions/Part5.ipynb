{
 "cells": [
  {
   "cell_type": "code",
   "execution_count": 1,
   "id": "af4733ea-4349-4ba7-b6d2-892b6a4c9376",
   "metadata": {},
   "outputs": [],
   "source": [
    "INTEGER = 'INTEGER'\n",
    "MUL = 'MUL'\n",
    "DIV = 'DIV'\n",
    "EOF = 'EOF'\n",
    "PLUS = 'PLUS'\n",
    "MINUS = 'MINUS'\n",
    "\n",
    "\n",
    "class Token:\n",
    "    def __init__(self,type_,value):\n",
    "        self.type_ = type_\n",
    "        self.value = value\n",
    "    \n",
    "    def __str__(self):\n",
    "        return f'Token:({self.type_},{self.value})'\n",
    "    \n",
    "    def __repr__(self):\n",
    "        return self.__str__()\n",
    "    \n",
    "# a = Token(INTEGER,6)\n",
    "# print(a)\n",
    "    "
   ]
  },
  {
   "cell_type": "code",
   "execution_count": 2,
   "id": "dd7ba964-1118-4d31-8b8f-6bc9f2cc762e",
   "metadata": {},
   "outputs": [],
   "source": [
    "class Lexer:\n",
    "    def __init__(self,test):\n",
    "        self.text = test\n",
    "#         print(self.text)\n",
    "        self.pos = 0\n",
    "#         self.current_token = None\n",
    "        self.current_char = self.text[self.pos]\n",
    "#         print(self.current_char)\n",
    "        \n",
    "    def advance(self):\n",
    "        self.pos += 1\n",
    "        if self.pos > len(self.text) - 1:\n",
    "            self.current_char = None\n",
    "        else:\n",
    "            self.current_char = self.text[self.pos]\n",
    "            \n",
    "    def error(self):\n",
    "        raise Exception(\"Parsing Error\")\n",
    "    \n",
    "    def skip_whitespace(self):\n",
    "        while self.current_char is not None and self.current_char.isspace():\n",
    "            self.advance()\n",
    "            \n",
    "    def integer(self):\n",
    "        res = ''\n",
    "        while self.current_char is not None and self.current_char.isdigit():\n",
    "            res += self.current_char\n",
    "            self.advance()\n",
    "#             print(int(res))\n",
    "        return int(res)\n",
    "        \n",
    "    def get_nxt_token(self):\n",
    "        \n",
    "        while self.current_char is not None:\n",
    "            \n",
    "#             print(self.current_char)\n",
    "            \n",
    "            if self.current_char.isspace():\n",
    "                self.skip_whitespace()\n",
    "                continue\n",
    "            \n",
    "            if self.current_char.isdigit():\n",
    "#                 print(self.current_char.isdigit())\n",
    "                return Token(INTEGER,self.integer())\n",
    "            \n",
    "            if self.current_char == '*':\n",
    "                self.advance()\n",
    "                return Token(MUL,'*')\n",
    "            \n",
    "            if self.current_char == '/':\n",
    "                self.advance()\n",
    "                return Token(DIV, '/')\n",
    "\n",
    "            if self.current_char == '+':\n",
    "                self.advance()\n",
    "                return Token(PLUS,'+')\n",
    "            \n",
    "            if self.current_char == '-':\n",
    "                self.advance()\n",
    "                return Token(PLUS, '-')\n",
    "            \n",
    "            self.error()\n",
    "            \n",
    "        return Token(EOF,None)"
   ]
  },
  {
   "cell_type": "code",
   "execution_count": 3,
   "id": "c8ed4572-103b-462c-81ad-fa3cf8ceeffe",
   "metadata": {},
   "outputs": [],
   "source": [
    "class Interpreter:\n",
    "    def __init__(self,lexer):\n",
    "        self.lexer = lexer\n",
    "#         print(self.lexer)\n",
    "        \n",
    "        self.current_token = self.lexer.get_nxt_token()\n",
    "#         print(self.current_token)\n",
    "    \n",
    "    \n",
    "    def eat(self, token_type):\n",
    "#         print(self.current_token.type_)\n",
    "        if self.current_token.type_ == token_type:\n",
    "            self.current_token = self.lexer.get_nxt_token()\n",
    "#             print(self.current_token)\n",
    "            \n",
    "        else:\n",
    "            self.error()\n",
    "            \n",
    "    \n",
    "    def factor(self):\n",
    "        token = self.current_token\n",
    "#         print(token.value)\n",
    "        self.eat(INTEGER)\n",
    "        return token.value\n",
    "\n",
    "    def term(self):\n",
    "        res = self.factor()\n",
    "\n",
    "        while self.current_token.type_ in (MUL,DIV):\n",
    "            token = self.current_token\n",
    "#             print(token)\n",
    "            if token.type_ == MUL:\n",
    "                self.eat(MUL)\n",
    "                res = res * self.factor()\n",
    "            elif token.type_ == DIV:\n",
    "                self.eat(DIV)\n",
    "                res = res // self.factor() \n",
    "        return res\n",
    "        \n",
    "    def expr(self):\n",
    "\n",
    "        result = self.term()\n",
    "#         print(result)\n",
    "        while self.current_token.type_ in (PLUS,MINUS):\n",
    "            token = self.current_token\n",
    "#             print(token)\n",
    "            if token.type_ == PLUS:\n",
    "                self.eat(PLUS)\n",
    "                result = result + self.term()\n",
    "            elif token.type_ == MINUS:\n",
    "                self.eat(MINUS)\n",
    "                result = result - self.term()   #if we give '/' it will give output as float\n",
    "                         \n",
    "        return result"
   ]
  },
  {
   "cell_type": "code",
   "execution_count": 4,
   "id": "abb7d64d-23fc-4825-9569-17f0c62dd23d",
   "metadata": {},
   "outputs": [
    {
     "name": "stdin",
     "output_type": "stream",
     "text": [
      " 5*6\n"
     ]
    },
    {
     "name": "stdout",
     "output_type": "stream",
     "text": [
      "30\n"
     ]
    }
   ],
   "source": [
    "i=1\n",
    "while(i):\n",
    "    i=0\n",
    "    test = input()\n",
    "    if not test:\n",
    "        continue\n",
    "    lexer = Lexer(test)\n",
    "    interpreter = Interpreter(lexer)\n",
    "    res = interpreter.expr()\n",
    "\n",
    "print(res)"
   ]
  },
  {
   "cell_type": "code",
   "execution_count": 12,
   "id": "bdd45d83-4891-4d2d-8264-05c27b7ab72f",
   "metadata": {},
   "outputs": [
    {
     "data": {
      "text/plain": [
       "21"
      ]
     },
     "execution_count": 12,
     "metadata": {},
     "output_type": "execute_result"
    }
   ],
   "source": [
    "7*3"
   ]
  },
  {
   "cell_type": "code",
   "execution_count": 5,
   "id": "b9036e04-dbe8-4bcc-8a38-bbbe8ecf2fa2",
   "metadata": {},
   "outputs": [
    {
     "data": {
      "text/plain": [
       "3"
      ]
     },
     "execution_count": 5,
     "metadata": {},
     "output_type": "execute_result"
    }
   ],
   "source": [
    "13//4"
   ]
  },
  {
   "cell_type": "code",
   "execution_count": 6,
   "id": "d1c234ea-680f-44ff-96dd-906105b914ee",
   "metadata": {},
   "outputs": [
    {
     "data": {
      "text/plain": [
       "33"
      ]
     },
     "execution_count": 6,
     "metadata": {},
     "output_type": "execute_result"
    }
   ],
   "source": [
    "21+9+3\n"
   ]
  },
  {
   "cell_type": "code",
   "execution_count": null,
   "id": "068aa582-a01c-4763-a0af-7f03890ba288",
   "metadata": {},
   "outputs": [],
   "source": []
  }
 ],
 "metadata": {
  "kernelspec": {
   "display_name": "Python 3 (ipykernel)",
   "language": "python",
   "name": "python3"
  },
  "language_info": {
   "codemirror_mode": {
    "name": "ipython",
    "version": 3
   },
   "file_extension": ".py",
   "mimetype": "text/x-python",
   "name": "python",
   "nbconvert_exporter": "python",
   "pygments_lexer": "ipython3",
   "version": "3.10.12"
  }
 },
 "nbformat": 4,
 "nbformat_minor": 5
}
