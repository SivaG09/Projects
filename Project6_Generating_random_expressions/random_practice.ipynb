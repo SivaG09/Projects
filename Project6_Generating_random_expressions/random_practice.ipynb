{
 "cells": [
  {
   "cell_type": "code",
   "execution_count": 8,
   "id": "9e0de117-f185-4374-b3ce-6b13fda0cbc1",
   "metadata": {},
   "outputs": [],
   "source": [
    "import random"
   ]
  },
  {
   "cell_type": "code",
   "execution_count": 9,
   "id": "a2a4df24-e7ee-405f-a609-050837d1709d",
   "metadata": {},
   "outputs": [
    {
     "name": "stdout",
     "output_type": "stream",
     "text": [
      "338\n"
     ]
    }
   ],
   "source": [
    "x = random.randrange(0,1000)\n",
    "print(x)"
   ]
  },
  {
   "cell_type": "code",
   "execution_count": 10,
   "id": "07c95647-35a8-4253-88b3-e2da5e883537",
   "metadata": {},
   "outputs": [
    {
     "name": "stdout",
     "output_type": "stream",
     "text": [
      "+\n"
     ]
    }
   ],
   "source": [
    "z= random.choice(('+','-'))\n",
    "print(z)"
   ]
  },
  {
   "cell_type": "code",
   "execution_count": 11,
   "id": "14607f49-ca4e-4761-b2da-d291585270f9",
   "metadata": {},
   "outputs": [
    {
     "name": "stdout",
     "output_type": "stream",
     "text": [
      "/\n"
     ]
    }
   ],
   "source": [
    "import random\n",
    "\n",
    "symbols = ['+', '-', '/', '*', '(', ')']\n",
    "index = random.randint(0, len(symbols) - 1)\n",
    "choice = symbols[index]\n",
    "print(choice)\n"
   ]
  },
  {
   "cell_type": "code",
   "execution_count": 34,
   "id": "05abef51-228a-4236-9e05-8a8ed38dd2d3",
   "metadata": {},
   "outputs": [
    {
     "name": "stdout",
     "output_type": "stream",
     "text": [
      "+\n"
     ]
    }
   ],
   "source": [
    "x = []\n",
    "op1 = random.choice(['+','-'])\n",
    "print(op1)\n",
    "x.append(op1)"
   ]
  },
  {
   "cell_type": "code",
   "execution_count": 35,
   "id": "d739308d-a42d-4609-9b2e-75a1ccc323a5",
   "metadata": {},
   "outputs": [
    {
     "name": "stdout",
     "output_type": "stream",
     "text": [
      "/\n"
     ]
    }
   ],
   "source": [
    "op2 = random.choice(['*', '/'])\n",
    "print(op2)\n",
    "x.append(op2)"
   ]
  },
  {
   "cell_type": "code",
   "execution_count": 36,
   "id": "d8c280a9-76f7-4952-8c98-62ca8ee510d4",
   "metadata": {},
   "outputs": [
    {
     "name": "stdout",
     "output_type": "stream",
     "text": [
      "(\n"
     ]
    }
   ],
   "source": [
    "op3 = random.choice(['(', ')'])\n",
    "print(op3)\n",
    "x.append(op3)"
   ]
  },
  {
   "cell_type": "code",
   "execution_count": 37,
   "id": "3bb522b9-8f70-4e1d-9f0e-800acda7ae68",
   "metadata": {},
   "outputs": [
    {
     "name": "stdout",
     "output_type": "stream",
     "text": [
      "['+', '/', '(']\n"
     ]
    }
   ],
   "source": [
    "print(x)"
   ]
  },
  {
   "cell_type": "code",
   "execution_count": 52,
   "id": "18bde0f7-8f3a-4a70-8dce-d2d307bdad45",
   "metadata": {},
   "outputs": [
    {
     "name": "stdout",
     "output_type": "stream",
     "text": [
      "['-', '*', '(']\n",
      "['-', '*', '(']\n",
      "['+', '*', '(']\n"
     ]
    }
   ],
   "source": [
    "for i in range(3):\n",
    "    y = []\n",
    "    op1 = random.choice(['+','-'])   \n",
    "    op2 = random.choice(['*', '/'])\n",
    "    op3 = random.choice(['(', ')'])\n",
    "    y.append(op1)\n",
    "    y.append(op2)\n",
    "    y.append(op3)\n",
    "    print(y)"
   ]
  },
  {
   "cell_type": "code",
   "execution_count": 63,
   "id": "34ac391e-b159-4318-922c-728b854f2756",
   "metadata": {},
   "outputs": [
    {
     "name": "stdout",
     "output_type": "stream",
     "text": [
      "775\n",
      "[775]\n"
     ]
    }
   ],
   "source": [
    "z = []\n",
    "num1 = random.randint(1,1000)\n",
    "z.append(num1)\n",
    "print(num1)\n",
    "print(z)"
   ]
  },
  {
   "cell_type": "code",
   "execution_count": 66,
   "id": "1cd53918-625d-4aae-8b30-c340b38ed945",
   "metadata": {},
   "outputs": [
    {
     "name": "stdout",
     "output_type": "stream",
     "text": [
      "[314, '-', 761, '/', 248]\n",
      "[839, '-', 152, '/', 893]\n",
      "[949, '+', 827, '*', 963]\n"
     ]
    }
   ],
   "source": [
    "for i in range(3):\n",
    "    list1 = []\n",
    "    num1 = random.randint(1,1000)\n",
    "    op1 = random.choice(['+','-'])  \n",
    "    num2 = random.randint(1,1000)\n",
    "    op2 = random.choice(['*', '/'])\n",
    "    num3 = random.randint(1,1000)\n",
    "    list1.append(num1)\n",
    "    list1.append(op1)\n",
    "    list1.append(num2)\n",
    "    list1.append(op2)\n",
    "    list1.append(num3)\n",
    "    print(list1)\n",
    "    # op3 = random.choice(['(', ')'])\n",
    "     "
   ]
  },
  {
   "cell_type": "code",
   "execution_count": 70,
   "id": "a0eeb7ab-4e45-4648-88a6-e4c8b1c9e458",
   "metadata": {},
   "outputs": [
    {
     "name": "stdout",
     "output_type": "stream",
     "text": [
      "['539', ')', '192', '+', '898']\n",
      "['940', '(', '656', '+', '785']\n",
      "['529', '(', '223', '-', '680']\n"
     ]
    }
   ],
   "source": [
    "for i in range(3):\n",
    "    list1 = []\n",
    "    flag = 0\n",
    "    op1 = random.choice(['(', ')'])\n",
    "    \n",
    "    num1 = random.randint(1,1000)\n",
    "    op2 = random.choice(['+','-'])  \n",
    "    op3 = random.choice(['(', ')'])\n",
    "    num2 = random.randint(1,1000)\n",
    "    op4 = random.choice(['*', '/'])\n",
    "    num3 = random.randint(1,1000)\n",
    "    op5 = random.choice(['(', ')'])\n",
    "\n",
    "    list1.append(num1)\n",
    "    list1.append(op1)\n",
    "    list1.append(num2)\n",
    "    list1.append(op2)\n",
    "    list1.append(num3)\n",
    "    # print(list1)\n",
    "    list2 = list(map(str,list1))\n",
    "    print(list2)"
   ]
  },
  {
   "cell_type": "code",
   "execution_count": null,
   "id": "5f6854dc-0a79-4503-87d5-fdbcd1b2fb92",
   "metadata": {},
   "outputs": [],
   "source": []
  }
 ],
 "metadata": {
  "kernelspec": {
   "display_name": "Python 3 (ipykernel)",
   "language": "python",
   "name": "python3"
  },
  "language_info": {
   "codemirror_mode": {
    "name": "ipython",
    "version": 3
   },
   "file_extension": ".py",
   "mimetype": "text/x-python",
   "name": "python",
   "nbconvert_exporter": "python",
   "pygments_lexer": "ipython3",
   "version": "3.10.12"
  }
 },
 "nbformat": 4,
 "nbformat_minor": 5
}
