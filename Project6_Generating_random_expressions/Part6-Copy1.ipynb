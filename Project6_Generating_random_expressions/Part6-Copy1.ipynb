{
 "cells": [
  {
   "cell_type": "raw",
   "id": "70f6f4b2-72a8-42fc-9492-0a98c24bd496",
   "metadata": {},
   "source": [
    "The Grammer for Generating the Expressions are:\n",
    "\n",
    "expr: term((PLUS/MINUS)term)*\n",
    "term: factor((MUL/DIV)factor)*\n",
    "factor: INTEGER | LPARAM expr RPARAM"
   ]
  },
  {
   "cell_type": "code",
   "execution_count": 1,
   "id": "43a2b688-ea77-400d-905d-985cebeb5db3",
   "metadata": {},
   "outputs": [],
   "source": [
    "#Tokens\n",
    "PLUS = 'PLUS'\n",
    "MINUS = 'MINUS'\n",
    "MUL = 'MUL'\n",
    "DIV = 'DIV'\n",
    "EOF = 'EOF'\n",
    "LPARAM = 'LPARAM'\n",
    "RPARAM = 'RPARAM'\n",
    "INTEGER = 'INTEGER'"
   ]
  },
  {
   "cell_type": "code",
   "execution_count": 2,
   "id": "0b190d36-817b-44c4-9789-b299b8ed0903",
   "metadata": {},
   "outputs": [],
   "source": [
    "#DEFINING THE CLASS TOKEN\n",
    "\n",
    "class Token:\n",
    "    def __init__(self,type_,value):\n",
    "        self.type_ = type_\n",
    "        self.value = value\n",
    "\n",
    "    def __str__(self):\n",
    "        return f\"Token({self.type_},{self.value})\"\n",
    "\n",
    "    def __repr__(self):\n",
    "        return __str__()\n",
    "    "
   ]
  },
  {
   "cell_type": "code",
   "execution_count": 3,
   "id": "89b08eb2-7b03-4171-b8f0-e65d5519d9d4",
   "metadata": {},
   "outputs": [],
   "source": [
    "# a = Token(INTEGER,4)\n",
    "# print(a)"
   ]
  },
  {
   "cell_type": "code",
   "execution_count": 4,
   "id": "81b3003c-5dbf-4778-8fde-955f7f95583b",
   "metadata": {},
   "outputs": [],
   "source": [
    "#defining the class Lexer\n",
    "\n",
    "class Lexer:\n",
    "    def __init__(self,text):\n",
    "        self.text = text\n",
    "        # print(self.text)\n",
    "        self.pos = 0\n",
    "        self.current_char = self.text[self.pos]\n",
    "        # print(self.current_char)\n",
    "\n",
    "    def error(self):\n",
    "        raise Exception(\"Invalid Parsing\")\n",
    "\n",
    "    def advance(self):\n",
    "        self.pos +=1\n",
    "        if self.pos > len(self.text) - 1:\n",
    "            self.current_char = None\n",
    "        else:\n",
    "            self.current_char = self.text[self.pos]\n",
    "\n",
    "    def skip_whitespace(self):\n",
    "        while self.current_char is not None and self.current_char.isspace():\n",
    "            self.advance()\n",
    "\n",
    "    def integer(self):\n",
    "        res = ''\n",
    "        while self.current_char is not None and self.current_char.isdigit():\n",
    "            res += self.current_char\n",
    "            self.advance()\n",
    "        return int(res)\n",
    "            \n",
    "            \n",
    "    def get_next_token(self):\n",
    "\n",
    "        while self.current_char is not None:\n",
    "\n",
    "            # if self.current_char.isspace():\n",
    "            #     skip_whitespace()\n",
    "                # continue\n",
    "            if self.current_char.isdigit():\n",
    "                return Token(INTEGER,self.integer())\n",
    "            elif self.current_char == '+':\n",
    "                self.advance()\n",
    "                return Token(PLUS,'+')\n",
    "            elif self.current_char == '-':\n",
    "                self.advance()\n",
    "                return Token(MINUS,'-')\n",
    "            elif self.current_char == '*':\n",
    "                self.advance()\n",
    "                return Token(MUL,'*')\n",
    "            elif self.current_char == '/':\n",
    "                self.advance()\n",
    "                return Token(DIV,'/')\n",
    "            elif self.current_char == '(':\n",
    "                self.advance()\n",
    "                return Token(LPARAM,'(')\n",
    "            elif self.current_char == ')':\n",
    "                self.advance()\n",
    "                return Token(RPARAM,')')\n",
    "            self.error()\n",
    "        return Token(EOF,None)            "
   ]
  },
  {
   "cell_type": "code",
   "execution_count": 5,
   "id": "0e3d14b6-e202-4001-bb59-daeae48ab68f",
   "metadata": {},
   "outputs": [],
   "source": [
    "#defining the class Interpreter\n",
    "\n",
    "class Interpreter:\n",
    "    def __init__(self,lexer):\n",
    "        self.lexer = lexer\n",
    "        # print(self.lexer)\n",
    "        self.current_token = self.lexer.get_next_token()\n",
    "        # print(self.current_token)\n",
    "\n",
    "    def eat(self,token_type):\n",
    "        if self.current_token.type_ == token_type:\n",
    "            self.current_token = self.lexer.get_next_token()\n",
    "            # print(self.current_token)\n",
    "        else:\n",
    "            self.error()\n",
    "\n",
    "    def factor(self):\n",
    "        token = self.current_token\n",
    "        # print(token)\n",
    "        if token.type_ == INTEGER:\n",
    "            self.eat(INTEGER)\n",
    "        elif token.type_ == LPARAM:\n",
    "            self.eat(LPARAM)\n",
    "            res = self.expr()\n",
    "            self.eat(RPARAM)\n",
    "            return res\n",
    "            \n",
    "            \n",
    "        return token.value\n",
    "    \n",
    "    def term(self):\n",
    "\n",
    "        res = self.factor()\n",
    "        # print(res)\n",
    "\n",
    "        while self.current_token.type_ in (MUL, DIV):\n",
    "            token = self.current_token\n",
    "            if token.type_ == MUL:\n",
    "                self.eat(MUL)\n",
    "                res = res * self.factor()\n",
    "            else:\n",
    "                self.eat(DIV)\n",
    "                res = res // self.factor()\n",
    "        return res\n",
    "    \n",
    "    def expr(self):\n",
    "        \n",
    "        result = self.term()\n",
    "\n",
    "        while self.current_token.type_ in (PLUS, MINUS):\n",
    "            token = self.current_token\n",
    "            if token.type_ == PLUS:\n",
    "                self.eat(PLUS)\n",
    "                result = result + self.term()\n",
    "            else:\n",
    "                self.eat(MINUS)\n",
    "                result = result + self.term()\n",
    "        return result"
   ]
  },
  {
   "cell_type": "code",
   "execution_count": 6,
   "id": "498455f3-0910-4685-8d83-65fae989c7b7",
   "metadata": {},
   "outputs": [
    {
     "name": "stdout",
     "output_type": "stream",
     "text": [
      "['221', '+', '352', '/', '477']\n",
      "221\n",
      "['879', '-', '382', '/', '88']\n",
      "883\n",
      "['339', '-', '799', '/', '61']\n",
      "352\n"
     ]
    }
   ],
   "source": [
    "import random\n",
    "for i in range(3):\n",
    "    list1 = []\n",
    "    num1 = random.randint(1,1000)\n",
    "    op1 = random.choice(['+','-'])  \n",
    "    num2 = random.randint(1,1000)\n",
    "    op2 = random.choice(['*', '/'])\n",
    "    num3 = random.randint(1,1000)\n",
    "    list1.append(num1)\n",
    "    list1.append(op1)\n",
    "    list1.append(num2)\n",
    "    list1.append(op2)\n",
    "    list1.append(num3)\n",
    "    # print(list1)\n",
    "    list2 = list(map(str,list1))\n",
    "    print(list2)\n",
    "    lexer = Lexer(list2)\n",
    "    interpreter  = Interpreter(lexer)\n",
    "    res = interpreter.expr()\n",
    "    print(res)"
   ]
  },
  {
   "cell_type": "code",
   "execution_count": 7,
   "id": "592fc102-338b-4a40-8767-c4bb7294b749",
   "metadata": {},
   "outputs": [],
   "source": [
    "# #calling the main function\n",
    "\n",
    "# i=1\n",
    "# while(i):\n",
    "#     i=0\n",
    "#     text = input()\n",
    "#     # print(text)\n",
    "#     if not text:\n",
    "#         continue\n",
    "#     lexer = Lexer(text)\n",
    "#     interpreter  = Interpreter(lexer)\n",
    "#     res = interpreter.expr()\n",
    "# print(res)"
   ]
  },
  {
   "cell_type": "code",
   "execution_count": 8,
   "id": "d0e553bf-1de4-46cd-934a-a50912c29c2b",
   "metadata": {},
   "outputs": [
    {
     "data": {
      "text/plain": [
       "24"
      ]
     },
     "execution_count": 8,
     "metadata": {},
     "output_type": "execute_result"
    }
   ],
   "source": [
    "((4*3)*2)"
   ]
  },
  {
   "cell_type": "code",
   "execution_count": 9,
   "id": "03b0520f-b8d2-4e28-a6cf-410e6dc394a2",
   "metadata": {},
   "outputs": [
    {
     "data": {
      "text/plain": [
       "3.0"
      ]
     },
     "execution_count": 9,
     "metadata": {},
     "output_type": "execute_result"
    }
   ],
   "source": [
    "((3*3)/3)"
   ]
  },
  {
   "cell_type": "code",
   "execution_count": 10,
   "id": "1f4f30b2-2bba-4291-9f4a-52e53b10e713",
   "metadata": {},
   "outputs": [
    {
     "data": {
      "text/plain": [
       "18"
      ]
     },
     "execution_count": 10,
     "metadata": {},
     "output_type": "execute_result"
    }
   ],
   "source": [
    "(9*2)"
   ]
  },
  {
   "cell_type": "code",
   "execution_count": 11,
   "id": "400fcea5-f319-4938-9990-139e0a5f90a7",
   "metadata": {},
   "outputs": [
    {
     "data": {
      "text/plain": [
       "45"
      ]
     },
     "execution_count": 11,
     "metadata": {},
     "output_type": "execute_result"
    }
   ],
   "source": [
    "24 + 18 + 3"
   ]
  },
  {
   "cell_type": "code",
   "execution_count": 44,
   "id": "2e45bdce-b597-4f08-ab55-bd551f230060",
   "metadata": {},
   "outputs": [
    {
     "name": "stdout",
     "output_type": "stream",
     "text": [
      "531 * 262 / ((421)) / 867 / ((219)) - 671 - 607 + ((271) + 705) / 842 + (895 * 154) - 627\n",
      "312 - (630)\n",
      "((472 * 665) / 170 * 860 + 692 + (455) * 216 * 341 + (717) / 738 / 675 * 563) * ((601) * 435 / 4) * 677 - 333 / (693) + 668 * 611 * (512) * 14 / (212) + (495 / 268) - ((241) + 750 - 600 - 622 - 906 - 827 + 960 - 380 + 692 - 652 - 396 + 108 - 846 + 334) + 410 * (343) * (461) * 104 * (563) - 701 + 542\n",
      "582 / 277 / 354 - ((631)) / 762\n",
      "(((142) * 799 / 830 / 427 + 959 + 34) / 266 / 79 * (680) / 784 * 404 * 271 * (12)) + 182 / (244)\n"
     ]
    }
   ],
   "source": [
    "import random\n",
    "\n",
    "# Define the possible operators and parentheses\n",
    "def generate_expression(max_depth=3):\n",
    "    if max_depth == 0:\n",
    "        return generate_factor(max_depth)\n",
    "    \n",
    "    expr = generate_term(max_depth)\n",
    "    \n",
    "    # Add more terms with random operators\n",
    "    while random.choice([True, False]) and max_depth > 0:\n",
    "        operator = random.choice(['+', '-'])\n",
    "        term = generate_term(max_depth-1)\n",
    "        expr += f\" {operator} {term}\"\n",
    "    \n",
    "    return expr\n",
    "\n",
    "def generate_term(max_depth):\n",
    "    if max_depth == 0:\n",
    "        return generate_factor(max_depth)\n",
    "    \n",
    "    term = generate_factor(max_depth)\n",
    "    \n",
    "    # Add more factors with random operators\n",
    "    while random.choice([True, False]) and max_depth > 0:\n",
    "        operator = random.choice(['*', '/'])\n",
    "        factor = generate_factor(max_depth-1)\n",
    "        term += f\" {operator} {factor}\"\n",
    "    \n",
    "    return term\n",
    "\n",
    "def generate_factor(max_depth):\n",
    "    if max_depth == 0:\n",
    "        return str(random.randint(1, 1000))\n",
    "    \n",
    "    if random.choice([True, False]):\n",
    "        return str(random.randint(1, 1000))\n",
    "    else:\n",
    "        return f\"({generate_expression(max_depth-1)})\"\n",
    "\n",
    "num = 5\n",
    "for _ in range(num):\n",
    "    expression = generate_expression(max_depth=3)\n",
    "    print(expression)\n"
   ]
  },
  {
   "cell_type": "code",
   "execution_count": null,
   "id": "e0ce84ad-203c-49bd-8f01-edd02529ba8d",
   "metadata": {},
   "outputs": [],
   "source": []
  }
 ],
 "metadata": {
  "kernelspec": {
   "display_name": "Python 3 (ipykernel)",
   "language": "python",
   "name": "python3"
  },
  "language_info": {
   "codemirror_mode": {
    "name": "ipython",
    "version": 3
   },
   "file_extension": ".py",
   "mimetype": "text/x-python",
   "name": "python",
   "nbconvert_exporter": "python",
   "pygments_lexer": "ipython3",
   "version": "3.10.12"
  }
 },
 "nbformat": 4,
 "nbformat_minor": 5
}
