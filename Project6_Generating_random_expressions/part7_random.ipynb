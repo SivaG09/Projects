{
 "cells": [
  {
   "cell_type": "code",
   "execution_count": 13,
   "id": "f62abd74-2c8a-49c8-9bfb-359dd4ee2cbf",
   "metadata": {},
   "outputs": [
    {
     "ename": "NameError",
     "evalue": "name 'Num' is not defined",
     "output_type": "error",
     "traceback": [
      "\u001b[0;31m---------------------------------------------------------------------------\u001b[0m",
      "\u001b[0;31mNameError\u001b[0m                                 Traceback (most recent call last)",
      "Cell \u001b[0;32mIn[13], line 43\u001b[0m\n\u001b[1;32m     40\u001b[0m         \u001b[38;5;28mprint\u001b[39m(\u001b[38;5;124mf\u001b[39m\u001b[38;5;124m'\u001b[39m\u001b[38;5;124mResult: \u001b[39m\u001b[38;5;132;01m{\u001b[39;00mresult\u001b[38;5;132;01m}\u001b[39;00m\u001b[38;5;130;01m\\n\u001b[39;00m\u001b[38;5;124m'\u001b[39m)\n\u001b[1;32m     42\u001b[0m \u001b[38;5;28;01mif\u001b[39;00m \u001b[38;5;18m__name__\u001b[39m \u001b[38;5;241m==\u001b[39m \u001b[38;5;124m'\u001b[39m\u001b[38;5;124m__main__\u001b[39m\u001b[38;5;124m'\u001b[39m:\n\u001b[0;32m---> 43\u001b[0m     \u001b[43mmain\u001b[49m\u001b[43m(\u001b[49m\u001b[43m)\u001b[49m\n",
      "Cell \u001b[0;32mIn[13], line 14\u001b[0m, in \u001b[0;36mmain\u001b[0;34m()\u001b[0m\n\u001b[1;32m     12\u001b[0m \u001b[38;5;28;01mdef\u001b[39;00m \u001b[38;5;21mmain\u001b[39m():\n\u001b[1;32m     13\u001b[0m     num_expressions \u001b[38;5;241m=\u001b[39m \u001b[38;5;241m5\u001b[39m\n\u001b[0;32m---> 14\u001b[0m     expressions \u001b[38;5;241m=\u001b[39m [generate_random_expr(\u001b[38;5;241m2\u001b[39m) \u001b[38;5;28;01mfor\u001b[39;00m _ \u001b[38;5;129;01min\u001b[39;00m \u001b[38;5;28mrange\u001b[39m(num_expressions)]\n\u001b[1;32m     16\u001b[0m     \u001b[38;5;28mprint\u001b[39m(\u001b[38;5;124m\"\u001b[39m\u001b[38;5;124mGenerated Expressions:\u001b[39m\u001b[38;5;124m\"\u001b[39m)\n\u001b[1;32m     17\u001b[0m     \u001b[38;5;28;01mfor\u001b[39;00m expr_ast \u001b[38;5;129;01min\u001b[39;00m expressions:\n",
      "Cell \u001b[0;32mIn[13], line 14\u001b[0m, in \u001b[0;36m<listcomp>\u001b[0;34m(.0)\u001b[0m\n\u001b[1;32m     12\u001b[0m \u001b[38;5;28;01mdef\u001b[39;00m \u001b[38;5;21mmain\u001b[39m():\n\u001b[1;32m     13\u001b[0m     num_expressions \u001b[38;5;241m=\u001b[39m \u001b[38;5;241m5\u001b[39m\n\u001b[0;32m---> 14\u001b[0m     expressions \u001b[38;5;241m=\u001b[39m [\u001b[43mgenerate_random_expr\u001b[49m\u001b[43m(\u001b[49m\u001b[38;5;241;43m2\u001b[39;49m\u001b[43m)\u001b[49m \u001b[38;5;28;01mfor\u001b[39;00m _ \u001b[38;5;129;01min\u001b[39;00m \u001b[38;5;28mrange\u001b[39m(num_expressions)]\n\u001b[1;32m     16\u001b[0m     \u001b[38;5;28mprint\u001b[39m(\u001b[38;5;124m\"\u001b[39m\u001b[38;5;124mGenerated Expressions:\u001b[39m\u001b[38;5;124m\"\u001b[39m)\n\u001b[1;32m     17\u001b[0m     \u001b[38;5;28;01mfor\u001b[39;00m expr_ast \u001b[38;5;129;01min\u001b[39;00m expressions:\n",
      "Cell \u001b[0;32mIn[13], line 3\u001b[0m, in \u001b[0;36mgenerate_random_expr\u001b[0;34m(depth)\u001b[0m\n\u001b[1;32m      1\u001b[0m \u001b[38;5;28;01mdef\u001b[39;00m \u001b[38;5;21mgenerate_random_expr\u001b[39m(depth):\n\u001b[1;32m      2\u001b[0m     \u001b[38;5;66;03m# Start with a term node\u001b[39;00m\n\u001b[0;32m----> 3\u001b[0m     node \u001b[38;5;241m=\u001b[39m \u001b[43mgenerate_random_term\u001b[49m\u001b[43m(\u001b[49m\u001b[43mdepth\u001b[49m\u001b[43m)\u001b[49m\n\u001b[1;32m      4\u001b[0m     \u001b[38;5;66;03m# Randomly decide whether to add addition or subtraction\u001b[39;00m\n\u001b[1;32m      5\u001b[0m     \u001b[38;5;28;01mwhile\u001b[39;00m random\u001b[38;5;241m.\u001b[39mchoice([\u001b[38;5;28;01mTrue\u001b[39;00m, \u001b[38;5;28;01mFalse\u001b[39;00m]):\n",
      "Cell \u001b[0;32mIn[12], line 4\u001b[0m, in \u001b[0;36mgenerate_random_term\u001b[0;34m(depth)\u001b[0m\n\u001b[1;32m      2\u001b[0m \u001b[38;5;28;01mdef\u001b[39;00m \u001b[38;5;21mgenerate_random_term\u001b[39m(depth):\n\u001b[1;32m      3\u001b[0m     \u001b[38;5;66;03m# Start with a factor node\u001b[39;00m\n\u001b[0;32m----> 4\u001b[0m     node \u001b[38;5;241m=\u001b[39m \u001b[43mgenerate_random_factor\u001b[49m\u001b[43m(\u001b[49m\u001b[43mdepth\u001b[49m\u001b[43m)\u001b[49m\n\u001b[1;32m      5\u001b[0m     \u001b[38;5;66;03m# Randomly decide whether to add multiplication or division\u001b[39;00m\n\u001b[1;32m      6\u001b[0m     \u001b[38;5;28;01mwhile\u001b[39;00m random\u001b[38;5;241m.\u001b[39mchoice([\u001b[38;5;28;01mTrue\u001b[39;00m, \u001b[38;5;28;01mFalse\u001b[39;00m]):\n",
      "Cell \u001b[0;32mIn[11], line 5\u001b[0m, in \u001b[0;36mgenerate_random_factor\u001b[0;34m(depth)\u001b[0m\n\u001b[1;32m      2\u001b[0m \u001b[38;5;28;01mdef\u001b[39;00m \u001b[38;5;21mgenerate_random_factor\u001b[39m(depth):\n\u001b[1;32m      3\u001b[0m     \u001b[38;5;66;03m# Base case: if depth exceeds 3 or randomly chosen to stop, return a number node\u001b[39;00m\n\u001b[1;32m      4\u001b[0m     \u001b[38;5;28;01mif\u001b[39;00m depth \u001b[38;5;241m>\u001b[39m \u001b[38;5;241m3\u001b[39m \u001b[38;5;129;01mor\u001b[39;00m random\u001b[38;5;241m.\u001b[39mchoice([\u001b[38;5;28;01mTrue\u001b[39;00m, \u001b[38;5;28;01mFalse\u001b[39;00m]):\n\u001b[0;32m----> 5\u001b[0m         \u001b[38;5;28;01mreturn\u001b[39;00m \u001b[43mNum\u001b[49m(Token(INTEGER, random\u001b[38;5;241m.\u001b[39mrandint(\u001b[38;5;241m1\u001b[39m, \u001b[38;5;241m10\u001b[39m)))\n\u001b[1;32m      6\u001b[0m     \u001b[38;5;28;01melse\u001b[39;00m:\n\u001b[1;32m      7\u001b[0m         \u001b[38;5;66;03m# Recursive case: generate a new expression with increased depth\u001b[39;00m\n\u001b[1;32m      8\u001b[0m         \u001b[38;5;28;01mreturn\u001b[39;00m ParenExpr(generate_random_expr(depth \u001b[38;5;241m+\u001b[39m \u001b[38;5;241m1\u001b[39m))\n",
      "\u001b[0;31mNameError\u001b[0m: name 'Num' is not defined"
     ]
    }
   ],
   "source": [
    "def generate_random_expr(depth):\n",
    "    # Start with a term node\n",
    "    node = generate_random_term(depth)\n",
    "    # Randomly decide whether to add addition or subtraction\n",
    "    while random.choice([True, False]):\n",
    "        token_type, token_symbol = random.choice([(PLUS, '+'), (MINUS, '-')])\n",
    "        token = Token(token_type, token_symbol)\n",
    "        # Create a binary operation node with the current node and a new term\n",
    "        node = BinOp(left=node, op=token, right=generate_random_term(depth))\n",
    "    return node\n",
    "\n",
    "def main():\n",
    "    num_expressions = 5\n",
    "    expressions = [generate_random_expr(2) for _ in range(num_expressions)]\n",
    "\n",
    "    print(\"Generated Expressions:\")\n",
    "    for expr_ast in expressions:\n",
    "        print(ast_to_string(expr_ast))\n",
    "    print()\n",
    "\n",
    "    for expr_ast in expressions:\n",
    "        expression = ast_to_string(expr_ast)\n",
    "        print(f'Expression: {expression}')\n",
    "        lexer = Lexer(expression)\n",
    "\n",
    "        tokens = []\n",
    "        while True:\n",
    "            token = lexer.get_next_token()\n",
    "            tokens.append(token)\n",
    "            if token.type == EOF:\n",
    "                break\n",
    "\n",
    "        print(\"Tokens:\")\n",
    "        for token in tokens:\n",
    "            print(token)\n",
    "\n",
    "        parser = Parser(Lexer(expression))\n",
    "        interpreter = Interpreter(parser)\n",
    "        result = interpreter.interpret()\n",
    "        print(f'Result: {result}\\n')\n",
    "\n",
    "if __name__ == '__main__':\n",
    "    main()"
   ]
  },
  {
   "cell_type": "code",
   "execution_count": 11,
   "id": "30096dd5-7448-4d62-b772-9bab2fac9a29",
   "metadata": {},
   "outputs": [],
   "source": [
    "# Function to generate a random factor (number or expression in parentheses)\n",
    "def generate_random_factor(depth):\n",
    "    # Base case: if depth exceeds 3 or randomly chosen to stop, return a number node\n",
    "    if depth > 3 or random.choice([True, False]):\n",
    "        return str(random.randint(1, 10))\n",
    "    else:\n",
    "        # Recursive case: generate a new expression with increased depth\n",
    "        return f'{generate_random_expr(depth + 1)}'"
   ]
  },
  {
   "cell_type": "code",
   "execution_count": 12,
   "id": "64ce2ee2-6ebb-4d23-ac08-6e843f1c36aa",
   "metadata": {},
   "outputs": [],
   "source": [
    "# Function to generate a random term (factor possibly followed by * or / operations)\n",
    "def generate_random_term(depth):\n",
    "    # Start with a factor node\n",
    "    node = generate_random_factor(depth)\n",
    "    # Randomly decide whether to add multiplication or division\n",
    "    while random.choice([True, False]):\n",
    "        token_type, token_symbol = random.choice([(MUL, '*'), (DIV, '/')])\n",
    "        token = Token(token_type, token_symbol)\n",
    "        # Create a binary operation node with the current node and a new factor\n",
    "        node = BinOp(left=node, op=token, right=generate_random_factor(depth))\n",
    "    return node"
   ]
  },
  {
   "cell_type": "code",
   "execution_count": null,
   "id": "14e64b2f-6ab7-4f6c-84be-98251ae6eac9",
   "metadata": {},
   "outputs": [],
   "source": [
    "def generate_random_expr(depth):\n",
    "    # Start with a term node\n",
    "    term = generate_random_term(depth)\n",
    "    # Randomly decide whether to add addition or subtraction\n",
    "    while random.choice([True, False]):\n",
    "        token= random.choice(['+','-'])\n",
    "        # token = Token(token_type, token_symbol)\n",
    "        # Create a binary operation node with the current node and a new term\n",
    "        # node = BinOp(left=node, op=token, right=generate_random_term(depth))\n",
    "    return f"
   ]
  },
  {
   "cell_type": "code",
   "execution_count": 19,
   "id": "4bfcce9a-00b0-4574-bda8-81eaca8af5e2",
   "metadata": {},
   "outputs": [],
   "source": [
    "# token= random.choice(['+','-'])\n",
    "# print(token)"
   ]
  },
  {
   "cell_type": "code",
   "execution_count": null,
   "id": "83092d0d-a292-4be6-b1ca-83e03b2571d0",
   "metadata": {},
   "outputs": [],
   "source": []
  }
 ],
 "metadata": {
  "kernelspec": {
   "display_name": "Python 3 (ipykernel)",
   "language": "python",
   "name": "python3"
  },
  "language_info": {
   "codemirror_mode": {
    "name": "ipython",
    "version": 3
   },
   "file_extension": ".py",
   "mimetype": "text/x-python",
   "name": "python",
   "nbconvert_exporter": "python",
   "pygments_lexer": "ipython3",
   "version": "3.10.12"
  }
 },
 "nbformat": 4,
 "nbformat_minor": 5
}
