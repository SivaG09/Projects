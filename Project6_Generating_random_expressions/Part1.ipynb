{
 "cells": [
  {
   "cell_type": "code",
   "execution_count": null,
   "id": "8e7cdf94",
   "metadata": {},
   "outputs": [],
   "source": [
    "INTEGER = 'INTEGER'\n",
    "EOF = 'EOF'\n",
    "PLUS = 'PLUS'\n",
    "\n",
    "class Token:\n",
    "    def __init__(self,type_,value):\n",
    "        self.type_ = type_\n",
    "        self.value = value\n",
    "        \n",
    "    def __str__(self):\n",
    "        #string representation of the class instance\n",
    "        #Example - 3(INTEGER)\n",
    "               # - +(PLUS)\n",
    "        return f'Token({self.type_}, {self.value})'\n",
    "    \n",
    "    def __repr__(self):\n",
    "        return self.__str__()"
   ]
  },
  {
   "cell_type": "code",
   "execution_count": null,
   "id": "06c653e4",
   "metadata": {},
   "outputs": [],
   "source": [
    "class Interpreter(object):\n",
    "    def __init__(self, text):\n",
    "        # client string input, e.g. \"3+5\"\n",
    "        self.text = text\n",
    "        # self.pos is an index into self.text\n",
    "        self.pos = 0\n",
    "        # current token instance\n",
    "        self.current_token = None\n",
    "    def error():\n",
    "        raise Exception('Error parsing input')\n",
    "        \n",
    "    def get_next_token(self):  #lexical analyzer\n",
    "        text = self.text\n",
    "        \n",
    "        if self.pos > (len(text) - 1):\n",
    "             return Token(EOF, None)\n",
    "        \n",
    "        current_char = text[self.pos] \n",
    "        \n",
    "        if current_char.isdigit():\n",
    "            token = Token(INTEGER,int(current_char))\n",
    "            self.pos += 1\n",
    "            return token\n",
    "    \n",
    "        if current_char == '+':\n",
    "            token = Token(PLUS,current_char)\n",
    "            self.pos += 1\n",
    "            return token\n",
    "        \n",
    "        self.error()  \n",
    "        \n",
    "    def eat(self,token_type):\n",
    "        if self.current_token.type_ == token_type:\n",
    "            self.current_token = self.get_next_token()\n",
    "        else:\n",
    "            self.error()\n",
    "    \n",
    "    def expr(self):\n",
    "        \n",
    "        self.current_token  = self.get_next_token()\n",
    "        \n",
    "        left = self.current_token\n",
    "        self.eat(INTEGER)\n",
    "            \n",
    "        op = self.current_token\n",
    "        self.eat(PLUS)\n",
    "        \n",
    "        right = self.current_token\n",
    "        self.eat(INTEGER)\n",
    "    \n",
    "        res = left.value + right.value\n",
    "        return res"
   ]
  },
  {
   "cell_type": "code",
   "execution_count": null,
   "id": "f3c6ba84",
   "metadata": {},
   "outputs": [],
   "source": [
    "# i = 1\n",
    "# while(i):\n",
    "#     text = input()\n",
    "#     i = 0\n",
    "#     if not text:\n",
    "#         continue\n",
    "#     interpreter = Interpreter(text)\n",
    "#     res = interpreter.expr()\n",
    "#     print(res)"
   ]
  },
  {
   "cell_type": "code",
   "execution_count": null,
   "id": "f9a404f5",
   "metadata": {},
   "outputs": [],
   "source": [
    "def integer(a):\n",
    "    \"\"\"Return a (multidigit) integer consumed from the input.\"\"\"\n",
    "    result = ''\n",
    "    while a is not None and a.isdigit():\n",
    "        result += a\n",
    "    return int(result)"
   ]
  },
  {
   "cell_type": "code",
   "execution_count": null,
   "id": "ef677c0b",
   "metadata": {},
   "outputs": [],
   "source": [
    "x =integer('5')\n",
    "print(x)"
   ]
  },
  {
   "cell_type": "code",
   "execution_count": null,
   "id": "5e15f64a",
   "metadata": {},
   "outputs": [],
   "source": [
    "print(\"Hello\")"
   ]
  },
  {
   "cell_type": "code",
   "execution_count": null,
   "id": "e2a808f4",
   "metadata": {},
   "outputs": [],
   "source": []
  }
 ],
 "metadata": {
  "kernelspec": {
   "display_name": "Python 3 (ipykernel)",
   "language": "python",
   "name": "python3"
  },
  "language_info": {
   "codemirror_mode": {
    "name": "ipython",
    "version": 3
   },
   "file_extension": ".py",
   "mimetype": "text/x-python",
   "name": "python",
   "nbconvert_exporter": "python",
   "pygments_lexer": "ipython3",
   "version": "3.10.12"
  }
 },
 "nbformat": 4,
 "nbformat_minor": 5
}
